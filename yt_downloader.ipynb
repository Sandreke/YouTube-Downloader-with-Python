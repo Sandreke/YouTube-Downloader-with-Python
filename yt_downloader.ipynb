{
 "cells": [
  {
   "cell_type": "code",
   "execution_count": 1,
   "metadata": {},
   "outputs": [
    {
     "name": "stdout",
     "output_type": "stream",
     "text": [
      "Requirement already satisfied: pytube in c:\\users\\sandro\\anaconda3\\lib\\site-packages (12.1.0)\n"
     ]
    }
   ],
   "source": [
    "!pip install pytube"
   ]
  },
  {
   "cell_type": "code",
   "execution_count": 2,
   "metadata": {},
   "outputs": [],
   "source": [
    "from tkinter import *\n",
    "from pytube import YouTube"
   ]
  },
  {
   "cell_type": "code",
   "execution_count": 3,
   "metadata": {},
   "outputs": [],
   "source": [
    "root = Tk()\n",
    "root.geometry('500x300')\n",
    "root.resizable(0,0)\n",
    "root.title(\"Descarga videos de YouTube con Sandreke\")\n",
    "root.configure(bg='#AACDE2')\n",
    "\n",
    "Label(root,text = 'Descarga videos de YouTube\\n con Sandreke', font ='arial 20 bold', bg='#AACDE2').pack()\n",
    "\n",
    "link = StringVar()\n",
    "Label(root, text = 'Pega el link aquí:', font = 'arial 15', bg='#AACDE2').place(x= 160 , y = 90)\n",
    "link_enter = Entry(root, width = 70,textvariable = link).place(x = 32, y = 120)\n",
    "\n",
    "def Downloader():     \n",
    "    url =YouTube(str(link.get()))\n",
    "#     video = url.streams.first()\n",
    "    video = url.streams.get_highest_resolution()\n",
    "    video.download()\n",
    "    Label(root, text = 'DESCARGADO', font = 'arial 15 bold', bg='#AACDE2', fg='#B57199').place(x= 180 , y = 240)  \n",
    "    \n",
    "Button(root,text = 'DESCARGAR', font = 'arial 15 bold', bg = '#B57199', padx = 2, command = Downloader).place(x=180 ,y = 180)\n",
    "root.mainloop()"
   ]
  }
 ],
 "metadata": {
  "kernelspec": {
   "display_name": "Python 3",
   "language": "python",
   "name": "python3"
  },
  "language_info": {
   "codemirror_mode": {
    "name": "ipython",
    "version": 3
   },
   "file_extension": ".py",
   "mimetype": "text/x-python",
   "name": "python",
   "nbconvert_exporter": "python",
   "pygments_lexer": "ipython3",
   "version": "3.7.4"
  }
 },
 "nbformat": 4,
 "nbformat_minor": 2
}
